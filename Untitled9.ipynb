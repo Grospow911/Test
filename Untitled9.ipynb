{
 "cells": [
  {
   "cell_type": "code",
   "execution_count": 2,
   "id": "ced47cfa",
   "metadata": {},
   "outputs": [
    {
     "data": {
      "text/plain": [
       "0"
      ]
     },
     "execution_count": 2,
     "metadata": {},
     "output_type": "execute_result"
    }
   ],
   "source": [
    "#Загружаем и смотрим на датасет, есть ли дубликаты, дубликатов нет, хорошо\n",
    "import pandas as pd\n",
    "df=pd.read_csv(r\"C:\\Users\\User\\Downloads\\Career Factory/AB Test Hit.csv\")\n",
    "df.shape\n",
    "df.duplicated().sum()"
   ]
  },
  {
   "cell_type": "code",
   "execution_count": 3,
   "id": "bfaa259e",
   "metadata": {},
   "outputs": [
    {
     "name": "stdout",
     "output_type": "stream",
     "text": [
      "<class 'pandas.core.frame.DataFrame'>\n",
      "Int64Index: 56310 entries, 2 to 502777\n",
      "Data columns (total 6 columns):\n",
      " #   Column        Non-Null Count  Dtype \n",
      "---  ------        --------------  ----- \n",
      " 0   hit_at        56310 non-null  object\n",
      " 1   anonymous_id  56310 non-null  object\n",
      " 2   group         56310 non-null  object\n",
      " 3   device_type   56310 non-null  object\n",
      " 4   browser       56310 non-null  object\n",
      " 5   os            56310 non-null  object\n",
      "dtypes: object(6)\n",
      "memory usage: 3.0+ MB\n"
     ]
    }
   ],
   "source": [
    "#Разделяем группы , группа Б\n",
    "group_B=df[df['group']=='address_first']\n",
    "group_B.info()"
   ]
  },
  {
   "cell_type": "code",
   "execution_count": 4,
   "id": "0b84745f",
   "metadata": {},
   "outputs": [
    {
     "data": {
      "text/plain": [
       "(446474, 6)"
      ]
     },
     "execution_count": 4,
     "metadata": {},
     "output_type": "execute_result"
    }
   ],
   "source": [
    "#Разделяем группы , группа А \n",
    "group_A=df[df['group']=='default']\n",
    "group_A.shape"
   ]
  },
  {
   "cell_type": "code",
   "execution_count": 5,
   "id": "db60010f",
   "metadata": {},
   "outputs": [],
   "source": [
    "#Отлично, теперь можем джойнить другие датасеты к этим двум датафраеймам\n",
    "#Осталось понять что джойнить и как)"
   ]
  },
  {
   "cell_type": "code",
   "execution_count": 6,
   "id": "4e3b4b7d",
   "metadata": {},
   "outputs": [
    {
     "name": "stdout",
     "output_type": "stream",
     "text": [
      "<class 'pandas.core.frame.DataFrame'>\n",
      "RangeIndex: 1150060 entries, 0 to 1150059\n",
      "Data columns (total 2 columns):\n",
      " #   Column        Non-Null Count    Dtype \n",
      "---  ------        --------------    ----- \n",
      " 0   timestamp     1150060 non-null  object\n",
      " 1   anonymous_id  1150060 non-null  object\n",
      "dtypes: object(2)\n",
      "memory usage: 17.5+ MB\n"
     ]
    }
   ],
   "source": [
    "#Прочитаем пока все другие датасеты и загрузим сюда\n",
    "Landing_Viewed=pd.read_csv(r\"C:\\Users\\User\\Downloads\\Career Factory/Landing Viewed.csv\")\n",
    "Product_Added=pd.read_csv(r\"C:\\Users\\User\\Downloads\\Career Factory/Product Added.csv\")\n",
    "Product_Added.info()"
   ]
  },
  {
   "cell_type": "code",
   "execution_count": 7,
   "id": "952ed175",
   "metadata": {},
   "outputs": [],
   "source": [
    "#Нужно посчитать процент добавления в корзину у двух групп.Начнем с конверсии у группы Б\n",
    "Product_added_B_all=pd.merge(group_B,Product_Added,how='left',on='anonymous_id')\n",
    "Product_added_B=pd.merge(group_B,Product_Added,how='inner',on='anonymous_id')"
   ]
  },
  {
   "cell_type": "code",
   "execution_count": 18,
   "id": "56041fca",
   "metadata": {},
   "outputs": [],
   "source": [
    "count_of_successful_B=Product_added_B.groupby('anonymous_id').count()\n",
    "succ_b=count_of_successful_B.shape[0]"
   ]
  },
  {
   "cell_type": "code",
   "execution_count": 19,
   "id": "7ff1ecf2",
   "metadata": {},
   "outputs": [],
   "source": [
    "count_of_all_B=Product_added_B_all.groupby('anonymous_id').count()\n",
    "succ_b_all=count_of_all_B.shape[0]\n"
   ]
  },
  {
   "cell_type": "code",
   "execution_count": 21,
   "id": "1c2317bb",
   "metadata": {},
   "outputs": [
    {
     "name": "stdout",
     "output_type": "stream",
     "text": [
      "Конверсия у группы Б 9.810%\n"
     ]
    }
   ],
   "source": [
    "print('Конверсия у группы Б {:.3%}'.format(succ_b/succ_b_all))"
   ]
  },
  {
   "cell_type": "code",
   "execution_count": 22,
   "id": "1e3c8320",
   "metadata": {},
   "outputs": [
    {
     "name": "stdout",
     "output_type": "stream",
     "text": [
      "Конверсия у группы А 1.237%\n"
     ]
    }
   ],
   "source": [
    "#Тоже самое, но для группы А\n",
    "Product_added_A_all=pd.merge(group_A,Product_Added,how='left',on='anonymous_id')\n",
    "Product_added_A=pd.merge(group_A,Product_Added,how='inner',on='anonymous_id')\n",
    "count_of_successful_A=Product_added_B.groupby('anonymous_id').count()\n",
    "succ_a=count_of_successful_A.shape[0]\n",
    "count_of_all_A=Product_added_A_all.groupby('anonymous_id').count()\n",
    "succ_a_all=count_of_all_A.shape[0]\n",
    "print('Конверсия у группы А {:.3%}'.format(succ_a/succ_a_all))\n"
   ]
  },
  {
   "cell_type": "code",
   "execution_count": 12,
   "id": "f60a1a4e",
   "metadata": {},
   "outputs": [],
   "source": [
    "#Чето маловато, где-то ошибка скорее всего,либо это штука реально помогла.Посчитаем bounce rate\n"
   ]
  },
  {
   "cell_type": "code",
   "execution_count": 17,
   "id": "abf01381",
   "metadata": {},
   "outputs": [
    {
     "data": {
      "text/plain": [
       "5378"
      ]
     },
     "execution_count": 17,
     "metadata": {},
     "output_type": "execute_result"
    }
   ],
   "source": []
  },
  {
   "cell_type": "code",
   "execution_count": null,
   "id": "033d8c75",
   "metadata": {},
   "outputs": [],
   "source": []
  },
  {
   "cell_type": "code",
   "execution_count": null,
   "id": "510bd895",
   "metadata": {},
   "outputs": [],
   "source": []
  }
 ],
 "metadata": {
  "kernelspec": {
   "display_name": "Python 3",
   "language": "python",
   "name": "python3"
  },
  "language_info": {
   "codemirror_mode": {
    "name": "ipython",
    "version": 3
   },
   "file_extension": ".py",
   "mimetype": "text/x-python",
   "name": "python",
   "nbconvert_exporter": "python",
   "pygments_lexer": "ipython3",
   "version": "3.9.4"
  }
 },
 "nbformat": 4,
 "nbformat_minor": 5
}
