{
 "cells": [
  {
   "cell_type": "code",
   "execution_count": 2,
   "id": "ced47cfa",
   "metadata": {},
   "outputs": [
    {
     "data": {
      "text/plain": [
       "0"
      ]
     },
     "execution_count": 2,
     "metadata": {},
     "output_type": "execute_result"
    }
   ],
   "source": [
    "#Загружаем и смотрим на датасет, есть ли дубликаты, дубликатов нет, хорошо\n",
    "import pandas as pd\n",
    "df=pd.read_csv(r\"C:\\Users\\User\\Downloads\\Career Factory/AB Test Hit.csv\")\n",
    "df.shape\n",
    "df.duplicated().sum()"
   ]
  },
  {
   "cell_type": "code",
   "execution_count": 28,
   "id": "bfaa259e",
   "metadata": {},
   "outputs": [
    {
     "data": {
      "text/plain": [
       "(56310, 6)"
      ]
     },
     "execution_count": 28,
     "metadata": {},
     "output_type": "execute_result"
    }
   ],
   "source": [
    "#Разделяем группы , группа Б\n",
    "group_B=df[df['group']=='address_first']\n",
    "group_B.shape"
   ]
  },
  {
   "cell_type": "code",
   "execution_count": 4,
   "id": "0b84745f",
   "metadata": {},
   "outputs": [
    {
     "data": {
      "text/plain": [
       "(446474, 6)"
      ]
     },
     "execution_count": 4,
     "metadata": {},
     "output_type": "execute_result"
    }
   ],
   "source": [
    "#Разделяем группы , группа А \n",
    "group_A=df[df['group']=='default']\n",
    "group_A.shape"
   ]
  },
  {
   "cell_type": "code",
   "execution_count": 5,
   "id": "db60010f",
   "metadata": {},
   "outputs": [],
   "source": [
    "#А почему такое разделение не равное?\n",
    "#Отлично, теперь можем джойнить другие датасеты к этим двум датафраеймам\n",
    "#Осталось понять что джойнить и как)"
   ]
  },
  {
   "cell_type": "code",
   "execution_count": 27,
   "id": "4e3b4b7d",
   "metadata": {},
   "outputs": [
    {
     "data": {
      "text/plain": [
       "0"
      ]
     },
     "execution_count": 27,
     "metadata": {},
     "output_type": "execute_result"
    }
   ],
   "source": [
    "#Прочитаем пока нужные датасеты и загрузим сюда\n",
    "Landing_Viewed=pd.read_csv(r\"C:\\Users\\User\\Downloads\\Career Factory/Landing Viewed.csv\")\n",
    "Product_Added=pd.read_csv(r\"C:\\Users\\User\\Downloads\\Career Factory/Product Added.csv\")\n",
    "#Проверим дубликаты, мне кажется они есть"
   ]
  },
  {
   "cell_type": "code",
   "execution_count": 67,
   "id": "7c2ff823",
   "metadata": {},
   "outputs": [
    {
     "data": {
      "text/plain": [
       "0"
      ]
     },
     "execution_count": 67,
     "metadata": {},
     "output_type": "execute_result"
    }
   ],
   "source": [
    "Product_Added.duplicated().sum()\n"
   ]
  },
  {
   "cell_type": "code",
   "execution_count": 74,
   "id": "fea42abc",
   "metadata": {},
   "outputs": [
    {
     "data": {
      "text/plain": [
       "116"
      ]
     },
     "execution_count": 74,
     "metadata": {},
     "output_type": "execute_result"
    }
   ],
   "source": [
    "Landing_Viewed.duplicated().sum()\n",
    "#Удалим дубли эти "
   ]
  },
  {
   "cell_type": "code",
   "execution_count": 82,
   "id": "16853fc7",
   "metadata": {},
   "outputs": [
    {
     "data": {
      "text/plain": [
       "(341365, 2)"
      ]
     },
     "execution_count": 82,
     "metadata": {},
     "output_type": "execute_result"
    }
   ],
   "source": [
    "Landing_Viewed=Landing_Viewed.drop_duplicates().reset_index(drop=True)\n",
    "Landing_Viewed.shape\n",
    "#Удалили, теперь определяем кто зашёл на лендинг  "
   ]
  },
  {
   "cell_type": "code",
   "execution_count": 99,
   "id": "15b8b9d9",
   "metadata": {},
   "outputs": [
    {
     "data": {
      "text/plain": [
       "(42193, 7)"
      ]
     },
     "execution_count": 99,
     "metadata": {},
     "output_type": "execute_result"
    }
   ],
   "source": [
    "#Люди из группы Б\n",
    "Landing_viewed_B=pd.merge(group_B,Landing_Viewed,how='inner',on='anonymous_id')\n",
    "Landing_viewed_B.shape"
   ]
  },
  {
   "cell_type": "code",
   "execution_count": 86,
   "id": "666dc27e",
   "metadata": {},
   "outputs": [
    {
     "data": {
      "text/plain": [
       "(356285, 7)"
      ]
     },
     "execution_count": 86,
     "metadata": {},
     "output_type": "execute_result"
    }
   ],
   "source": [
    "#Тоже самое, для группа А\n",
    "Landing_viewed_A=pd.merge(Landing_Viewed,group_A,how='inner',on='anonymous_id')\n",
    "Landing_viewed_A.shape"
   ]
  },
  {
   "cell_type": "code",
   "execution_count": 87,
   "id": "952ed175",
   "metadata": {},
   "outputs": [],
   "source": [
    "#Нужно посчитать процент добавления в корзину у двух групп.Начнем с конверсии у группы Б\n",
    "#Что такое вообще конверсия-это процент людей, которые дошли от лендинга до добавления продукта\n",
    "#Найдём людей, которые дошли от лендинга до добавления продукта в группе Б\n",
    "Product_added_B=pd.merge(Landing_viewed_B,Product_Added,how='inner',on='anonymous_id')"
   ]
  },
  {
   "cell_type": "code",
   "execution_count": 91,
   "id": "56041fca",
   "metadata": {},
   "outputs": [],
   "source": [
    "#Сгруппируем, действий может быть много\n",
    "count_of_successful_B=Product_added_B.groupby('anonymous_id').count()\n",
    "succ_b=count_of_successful_B.shape[0]"
   ]
  },
  {
   "cell_type": "code",
   "execution_count": 92,
   "id": "7ff1ecf2",
   "metadata": {},
   "outputs": [],
   "source": [
    "#Сколько всего было , тоже сгруппируем\n",
    "count_of_all_B=Landing_viewed_B.groupby('anonymous_id').count()\n",
    "succ_b_all=count_of_all_B.shape[0]\n"
   ]
  },
  {
   "cell_type": "code",
   "execution_count": 93,
   "id": "1c2317bb",
   "metadata": {
    "scrolled": true
   },
   "outputs": [
    {
     "name": "stdout",
     "output_type": "stream",
     "text": [
      "Конверсия добавления в корзину у группы Б 16.384%\n"
     ]
    }
   ],
   "source": [
    "print('Конверсия добавления в корзину у группы Б {:.3%}'.format(succ_b/succ_b_all))\n",
    "#Хорошая конверсия, проверим для группы А"
   ]
  },
  {
   "cell_type": "code",
   "execution_count": 96,
   "id": "1e3c8320",
   "metadata": {},
   "outputs": [
    {
     "name": "stdout",
     "output_type": "stream",
     "text": [
      "Конверсия добавления в корзину у группы А 14.141%\n"
     ]
    }
   ],
   "source": [
    "#Тоже самое, но для группы А\n",
    "Product_added_A=pd.merge(Landing_viewed_A,Product_Added,how='inner',on='anonymous_id')\n",
    "count_of_successful_A=Product_added_A.groupby('anonymous_id').count()\n",
    "succ_a=count_of_successful_A.shape[0]\n",
    "count_of_all_A=Landing_viewed_A.groupby('anonymous_id').count()\n",
    "succ_a_all=count_of_all_A.shape[0]\n",
    "print('Конверсия добавления в корзину у группы А {:.3%}'.format(succ_a/succ_a_all))\n"
   ]
  },
  {
   "cell_type": "code",
   "execution_count": 65,
   "id": "f60a1a4e",
   "metadata": {},
   "outputs": [],
   "source": [
    "#Разница 2% , хорошо ли это?\n",
    "#Посчитаем bounce rate\n",
    "#Bounce rate если верить википедии это процентное соотношение количества посетителей,\n",
    "#покинувших сайт прямо со страницы входа или просмотревших не более одной страницы сайта\n",
    "#Не знаю как это интерпритировать, но предположу ,что спрашивается  \n",
    "#процент переходов с лендинга на основную страницу у двух групп\n",
    "#то есть (кол-во людей перешедшие на главную страницу/кол-во людей,посетивших лендинг)"
   ]
  },
  {
   "cell_type": "code",
   "execution_count": 97,
   "id": "8980730e",
   "metadata": {},
   "outputs": [
    {
     "data": {
      "text/plain": [
       "187"
      ]
     },
     "execution_count": 97,
     "metadata": {},
     "output_type": "execute_result"
    }
   ],
   "source": [
    "#Подгрузим датасет MainPage,удалим дубликаты если есть \n",
    "Main_Page_Viewed=pd.read_csv(r\"C:\\Users\\User\\Downloads\\Career Factory/Main Page Viewed.csv\")\n",
    "Main_Page_Viewed.duplicated().sum()\n"
   ]
  },
  {
   "cell_type": "code",
   "execution_count": 103,
   "id": "961c38cf",
   "metadata": {},
   "outputs": [],
   "source": [
    "Main_Page_Viewed=Main_Page_Viewed.drop_duplicates().reset_index(drop=True)\n",
    "#Удалили, теперь определчем кто перешёл с лендинга на основную страницу  "
   ]
  },
  {
   "cell_type": "code",
   "execution_count": 100,
   "id": "abf01381",
   "metadata": {},
   "outputs": [
    {
     "data": {
      "text/plain": [
       "(79728, 8)"
      ]
     },
     "execution_count": 100,
     "metadata": {},
     "output_type": "execute_result"
    }
   ],
   "source": [
    "#Нужно посчитать процент выхода со страницы лендинга у двух групп.Начнем с процента у группы Б\n",
    "#Благо, почти все подсчитано выше , просто заменим на нужные нам датасеты\n",
    "Main_Page_Viewed_B=pd.merge(group_B,Main_Page_Viewed,how='inner',on='anonymous_id')\n",
    "Main_Page_Viewed_B.shape\n",
    "\n"
   ]
  },
  {
   "cell_type": "code",
   "execution_count": 102,
   "id": "7e6c7f15",
   "metadata": {},
   "outputs": [
    {
     "name": "stdout",
     "output_type": "stream",
     "text": [
      "Bounce rate у группы Б 65.619%\n"
     ]
    }
   ],
   "source": [
    "count_Main_B=Main_Page_Viewed_B.groupby('anonymous_id').count()\n",
    "succ_Main_b=count_Main_B.shape[0]\n",
    "print('Bounce rate у группы Б {:.3%}'.format(succ_Main_b/succ_b_all))\n",
    "#Количество людей на лендинге подсчитано выше, поэтому просто обратился к ней"
   ]
  },
  {
   "cell_type": "code",
   "execution_count": 108,
   "id": "b3d35567",
   "metadata": {},
   "outputs": [
    {
     "name": "stdout",
     "output_type": "stream",
     "text": [
      "Bounce rate у группы A 77.781%\n"
     ]
    }
   ],
   "source": [
    "#Теперь для группы А\n",
    "Main_Page_Viewed_A=pd.merge(group_A,Main_Page_Viewed,how='inner',on='anonymous_id')\n",
    "count_Main_A=Main_Page_Viewed_A.groupby('anonymous_id').count()\n",
    "succ_Main_a=count_Main_A.shape[0]\n",
    "print('Bounce rate у группы A {:.3%}'.format(succ_Main_a/succ_a_all))"
   ]
  },
  {
   "cell_type": "code",
   "execution_count": 57,
   "id": "510bd895",
   "metadata": {},
   "outputs": [],
   "source": [
    "\n"
   ]
  },
  {
   "cell_type": "code",
   "execution_count": null,
   "id": "a58a733b",
   "metadata": {},
   "outputs": [],
   "source": []
  }
 ],
 "metadata": {
  "kernelspec": {
   "display_name": "Python 3",
   "language": "python",
   "name": "python3"
  },
  "language_info": {
   "codemirror_mode": {
    "name": "ipython",
    "version": 3
   },
   "file_extension": ".py",
   "mimetype": "text/x-python",
   "name": "python",
   "nbconvert_exporter": "python",
   "pygments_lexer": "ipython3",
   "version": "3.9.4"
  }
 },
 "nbformat": 4,
 "nbformat_minor": 5
}
